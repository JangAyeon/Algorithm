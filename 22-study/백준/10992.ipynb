{
 "cells": [
  {
   "attachments": {},
   "cell_type": "markdown",
   "metadata": {},
   "source": [
    "백준 별 찍기 - 17\n",
    "\n",
    "https://www.acmicpc.net/problem/10992"
   ]
  },
  {
   "cell_type": "code",
   "execution_count": 18,
   "metadata": {},
   "outputs": [
    {
     "name": "stdout",
     "output_type": "stream",
     "text": [
      "1 1\n",
      " 1 2\n",
      "*1 3\n",
      " 1 4\n",
      " 1 5\n",
      " ***\n",
      "2 1\n",
      "*2 2\n",
      " 2 3\n",
      "*2 4\n",
      " 2 5\n",
      " ***\n",
      "3 1\n",
      " 3 2\n",
      " 3 3\n",
      " 3 4\n",
      "*3 5\n",
      " ***\n"
     ]
    }
   ],
   "source": [
    "n = int(input())\n",
    "for i in range(1, n+1):\n",
    "    for j in range(1, n*2):\n",
    "        #print(i,j)\n",
    "        if (i==n):\n",
    "            print(\"*\",end=\" \")\n",
    "        elif ((j==n-1+(i-1) or j==n-1-(i-1))):\n",
    "            print(\"*\", end = \"\")\n",
    "        else:\n",
    "            print(\" \", end=\"\")\n",
    "        \n",
    "    print(\"***\")"
   ]
  },
  {
   "cell_type": "code",
   "execution_count": null,
   "metadata": {},
   "outputs": [],
   "source": []
  }
 ],
 "metadata": {
  "kernelspec": {
   "display_name": "Python 3",
   "language": "python",
   "name": "python3"
  },
  "language_info": {
   "codemirror_mode": {
    "name": "ipython",
    "version": 3
   },
   "file_extension": ".py",
   "mimetype": "text/x-python",
   "name": "python",
   "nbconvert_exporter": "python",
   "pygments_lexer": "ipython3",
   "version": "3.9.6 (default, Sep 13 2022, 22:03:16) \n[Clang 14.0.0 (clang-1400.0.29.102)]"
  },
  "orig_nbformat": 4,
  "vscode": {
   "interpreter": {
    "hash": "31f2aee4e71d21fbe5cf8b01ff0e069b9275f58929596ceb00d14d90e3e16cd6"
   }
  }
 },
 "nbformat": 4,
 "nbformat_minor": 2
}
