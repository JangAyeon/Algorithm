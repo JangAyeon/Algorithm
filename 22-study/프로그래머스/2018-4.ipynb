{
 "cells": [
  {
   "attachments": {},
   "cell_type": "markdown",
   "metadata": {},
   "source": [
    "## 2018 KAKAO BLIND RECRUITMENT [1차] 셔틀버스\n",
    "\n",
    "https://school.programmers.co.kr/learn/courses/30/lessons/17678?language=cpp\n",
    "\n",
    "* n : 셔틀 운행 횟수\n",
    "* t : 셔틀 운행 간격\n",
    "* m : 한 셔틀에 탈 수 있는 최대 크루 수 \n"
   ]
  },
  {
   "cell_type": "code",
   "execution_count": 49,
   "metadata": {},
   "outputs": [],
   "source": [
    "def solution(n, t, m , timeTable):\n",
    "    busTime = 9*60 # 버스 첫 차\n",
    "    start = 9*60 # 콘 대기 시작 기준 시간\n",
    "    timeTable = sorted([int(i[:2])*60+int(i[3:]) for i in timeTable])\n",
    "    #seat = []\n",
    "\n",
    "    for i in range(n):\n",
    "        for j in range(m):\n",
    "            if timeTable and timeTable[0]<=busTime:\n",
    "                #seat.append(timeTable.pop(0))\n",
    "                start = timeTable.pop(0)-1\n",
    "            else:\n",
    "                start = busTime\n",
    "        busTime += t\n",
    "    return str(start//60).zfill(2)+\":\"+str(start%60).zfill(2)"
   ]
  },
  {
   "cell_type": "code",
   "execution_count": 51,
   "metadata": {},
   "outputs": [],
   "source": [
    "testcase = [\n",
    "    (1,\t1,\t5,\t[\"08:00\", \"08:01\", \"08:02\", \"08:03\"]),\n",
    "    (2,\t10,\t2,\t[\"09:10\", \"09:09\", \"08:00\"]),\n",
    "    (2,\t1,\t2,\t[\"09:00\", \"09:00\", \"09:00\", \"09:00\"]),\n",
    "    (1,\t1,\t5,\t[\"00:01\", \"00:01\", \"00:01\", \"00:01\", \"00:01\"]),\n",
    "    (1,\t1,\t1,\t[\"23:59\"]),\n",
    "    (10,\t60,\t45,\t[\"23:59\",\"23:59\", \"23:59\", \"23:59\", \"23:59\", \"23:59\", \"23:59\", \"23:59\", \"23:59\", \"23:59\", \"23:59\", \"23:59\", \"23:59\", \"23:59\", \"23:59\", \"23:59\"])\n",
    "]"
   ]
  },
  {
   "cell_type": "code",
   "execution_count": 52,
   "metadata": {},
   "outputs": [
    {
     "name": "stdout",
     "output_type": "stream",
     "text": [
      "09:00\n",
      "09:09\n",
      "08:59\n",
      "00:00\n",
      "09:00\n",
      "18:00\n"
     ]
    }
   ],
   "source": [
    "for n, t, m , timetable in testcase:\n",
    "    print(solution(n, t, m , timetable))"
   ]
  }
 ],
 "metadata": {
  "kernelspec": {
   "display_name": "Python 3",
   "language": "python",
   "name": "python3"
  },
  "language_info": {
   "codemirror_mode": {
    "name": "ipython",
    "version": 3
   },
   "file_extension": ".py",
   "mimetype": "text/x-python",
   "name": "python",
   "nbconvert_exporter": "python",
   "pygments_lexer": "ipython3",
   "version": "3.9.6"
  },
  "orig_nbformat": 4,
  "vscode": {
   "interpreter": {
    "hash": "31f2aee4e71d21fbe5cf8b01ff0e069b9275f58929596ceb00d14d90e3e16cd6"
   }
  }
 },
 "nbformat": 4,
 "nbformat_minor": 2
}
