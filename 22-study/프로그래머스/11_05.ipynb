{
  "nbformat": 4,
  "nbformat_minor": 0,
  "metadata": {
    "colab": {
      "provenance": []
    },
    "kernelspec": {
      "name": "python3",
      "display_name": "Python 3"
    },
    "language_info": {
      "name": "python"
    }
  },
  "cells": [
    {
      "cell_type": "code",
      "source": [
        "# 프로그래머스 - 옷가게 할인 받기\n",
        "# 10만 원 이상 사면 5%, 30만 원 이상 사면 10%, 50만 원 이상 사면 20%를 할인\n",
        "\n",
        "def solution(price):\n",
        "    if price>=500000:\n",
        "        return int(price*0.8)\n",
        "\n",
        "    elif price>=300000:\n",
        "        return int(price*0.9)\n",
        "\n",
        "    elif price>=100000:\n",
        "        return int(price*0.95)\n",
        "    else:\n",
        "        return int(price)\n",
        "print(solution(580000))"
      ],
      "metadata": {
        "colab": {
          "base_uri": "https://localhost:8080/"
        },
        "id": "3GXzFdQhYT0W",
        "outputId": "aab209e2-4a5d-4040-da24-9add80479ccf"
      },
      "execution_count": 4,
      "outputs": [
        {
          "output_type": "stream",
          "name": "stdout",
          "text": [
            "464000.0\n"
          ]
        }
      ]
    },
    {
      "cell_type": "code",
      "source": [
        "# 프로그래머스 - 아이스 아메리카노\n",
        "# 아이스 아메리카노는 한잔에 5,500원입니다. 머쓱이가 가지고 있는 돈 money가 매개변수로 주어질 때, 머쓱이가 최대로 마실 수 있는 아메리카노의 잔 수와 남는 돈을 순서대로 담은 배열을 return \n",
        "\n",
        "\n",
        "def solution(money):\n",
        "  n = money//5500\n",
        "  m = money%5500\n",
        "  return [n,m]\n",
        "\n",
        "\n",
        "print(solution(15000))"
      ],
      "metadata": {
        "colab": {
          "base_uri": "https://localhost:8080/"
        },
        "id": "pNi-TFtGY0q6",
        "outputId": "c026352c-3f93-4fb6-ed06-53360fe0945d"
      },
      "execution_count": 7,
      "outputs": [
        {
          "output_type": "stream",
          "name": "stdout",
          "text": [
            "[2, 4000]\n"
          ]
        }
      ]
    },
    {
      "cell_type": "code",
      "source": [
        "# 프로그래머스 - 나이 출력\n",
        "# 나이 age가 주어질 때, 2022년을 기준 출생 연도를 return \n",
        "\n",
        "def solution(age):\n",
        "  return abs(age - 2022-1)\n",
        "\n",
        "print(solution(40))\n"
      ],
      "metadata": {
        "colab": {
          "base_uri": "https://localhost:8080/"
        },
        "id": "wKiab7mObJJY",
        "outputId": "55488d66-8d8e-418b-8378-68226793fd00"
      },
      "execution_count": 15,
      "outputs": [
        {
          "output_type": "stream",
          "name": "stdout",
          "text": [
            "1983\n"
          ]
        }
      ]
    },
    {
      "cell_type": "code",
      "source": [
        "# 프로그래머스 - 배열 뒤집기\n",
        "def solution(num_list):\n",
        "    return list(reversed(num_list))\n",
        "print(solution([1, 2, 3, 4, 5]))"
      ],
      "metadata": {
        "colab": {
          "base_uri": "https://localhost:8080/"
        },
        "id": "C33BEhqFcIQS",
        "outputId": "12f28d79-3e4e-4c0e-c955-b3a932f1454e"
      },
      "execution_count": 18,
      "outputs": [
        {
          "output_type": "stream",
          "name": "stdout",
          "text": [
            "[5, 4, 3, 2, 1]\n"
          ]
        }
      ]
    },
    {
      "cell_type": "code",
      "source": [
        "# 프로그래머스 - 문자열 뒤집기\n",
        "def solution(my_string):\n",
        "    return my_string[::-1]\n",
        "\n",
        "print(solution(\"bread\"))"
      ],
      "metadata": {
        "colab": {
          "base_uri": "https://localhost:8080/"
        },
        "id": "jLxsjCbhdP0m",
        "outputId": "dc365ecf-109d-4578-f2be-be73b7781a6a"
      },
      "execution_count": 22,
      "outputs": [
        {
          "output_type": "stream",
          "name": "stdout",
          "text": [
            "daerb\n"
          ]
        }
      ]
    },
    {
      "cell_type": "code",
      "source": [
        "# 프로그래머스 - 직각삼각형 출력하기\n",
        "n = int(input())\n",
        "for i in range(1, n+1):\n",
        "    for j in range(1,i+1):\n",
        "        print(\"*\",end=\"\")\n",
        "    print()\n"
      ],
      "metadata": {
        "colab": {
          "base_uri": "https://localhost:8080/"
        },
        "id": "d-Y1Ve6jeauS",
        "outputId": "09d4ab76-66df-4b57-af96-f5f343d08320"
      },
      "execution_count": 31,
      "outputs": [
        {
          "output_type": "stream",
          "name": "stdout",
          "text": [
            "3\n",
            "*\n",
            "**\n",
            "***\n"
          ]
        }
      ]
    },
    {
      "cell_type": "code",
      "source": [
        "#프로그래머스 - 짝수 홀수 갯수\n",
        "def solution(num_list):\n",
        "  cnt1 = 0\n",
        "  cnt2 = 0\n",
        "  for i in num_list:\n",
        "    if i % 2 ==0:\n",
        "      cnt1+=1\n",
        "    else:\n",
        "      cnt2+=1\n",
        "  return [cnt1, cnt2]\n",
        "\n",
        "print(solution([1,2,3,4,5]))"
      ],
      "metadata": {
        "colab": {
          "base_uri": "https://localhost:8080/"
        },
        "id": "hdrrg07yfI6v",
        "outputId": "cd1bb2b9-4317-45fb-d0e0-f9c9c8dcb557"
      },
      "execution_count": 33,
      "outputs": [
        {
          "output_type": "stream",
          "name": "stdout",
          "text": [
            "[2, 3]\n"
          ]
        }
      ]
    },
    {
      "cell_type": "code",
      "source": [
        "#프로그래머스 - 문자 반복 출력하기\n",
        "\n",
        "def solution(my_string, n):\n",
        "  ans = \"\"\n",
        "  for i in my_string:\n",
        "    for j in range(n):\n",
        "      ans+=i\n",
        "\n",
        "  return ans\n",
        "print(solution(\"hello\",3))"
      ],
      "metadata": {
        "colab": {
          "base_uri": "https://localhost:8080/"
        },
        "id": "F5UaaziSf6X_",
        "outputId": "7a8de907-9f6d-46b1-c87d-5184ef9ad81e"
      },
      "execution_count": 37,
      "outputs": [
        {
          "output_type": "stream",
          "name": "stdout",
          "text": [
            "hhheeellllllooo\n"
          ]
        }
      ]
    },
    {
      "cell_type": "code",
      "source": [
        "#프로그래머스 sql - 과일로 만든 아이스크림\n",
        "SELECT FH.FLAVOR from FIRST_HALF FH \n",
        "Left OUTER JOIN ICECREAM_INFO II ON FH.FLAVOR = II.FLAVOR\n",
        "WHERE FH.TOTAL_ORDER>3000 and II.INGREDIENT_TYPE = \"fruit_based\"\n",
        "ORDER BY FH.TOTAL_ORDER DESC"
      ],
      "metadata": {
        "id": "V0fjz-fngTrj"
      },
      "execution_count": null,
      "outputs": []
    },
    {
      "cell_type": "code",
      "source": [
        "#프로그래머스 sql - 12세 이하인 여자 환자 목록 출력하기\n",
        "\n",
        "select  pt_name, pt_no, gend_cd, age, ifnull(tlno, 'NONE') as tlno\n",
        "from patient\n",
        "where age <= 12 and gend_cd = 'W'\n",
        "order by age desc, PT_NAME ASC;"
      ],
      "metadata": {
        "id": "OBIXpcJPnYwL"
      },
      "execution_count": null,
      "outputs": []
    },
    {
      "cell_type": "code",
      "source": [
        "#프로그래머스 sql - 흉부외과 또는 일반외과 의사 목록 출력하기\n",
        "\n",
        "SELECT DR_NAME, DR_ID, MCDP_CD, DATE_FORMAT(HIRE_YMD,\"%Y-%m-%d\") as HIRE_YMD\n",
        "FROM DOCTOR\n",
        "WHERE MCDP_CD in (\"CS\",\"GS\")\n",
        "ORDER by HIRE_YMD DESC, DR_NAME ASC"
      ],
      "metadata": {
        "id": "k-E9sPl3oYdj"
      },
      "execution_count": null,
      "outputs": []
    },
    {
      "cell_type": "code",
      "source": [
        "#프로그래머스 sql - 3월에 태어난 여성 회원 목록 출력하기\n",
        "\n",
        "SELECT MEMBER_ID, MEMBER_NAME, GENDER, DATE_FORMAT(DATE_OF_BIRTH,\"%Y-%m-%d\") as DATE_OF_BIRTH\n",
        "FROM MEMBER_PROFILE\n",
        "WHERE GENDER = \"W\" \n",
        "    and DATE_FORMAT(DATE_OF_BIRTH,\"%m\") = 03\n",
        "    and TLNO is not NULL\n",
        "ORDER BY MEMBER_ID"
      ],
      "metadata": {
        "id": "aOgswzUipXHU"
      },
      "execution_count": null,
      "outputs": []
    },
    {
      "cell_type": "code",
      "source": [
        "#프로그래머스 sql - 재구매가 일어난 상품과 회원 리스트 구하기\n",
        "\n",
        "SELECT USER_ID, PRODUCT_ID FROM ONLINE_SALE\n",
        "GROUP BY USER_ID, PRODUCT_ID\n",
        "HAVING count(*)>=2\n",
        "ORDER BY USER_ID, PRODUCT_ID DESC"
      ],
      "metadata": {
        "id": "cJTqWVGzqNF1"
      },
      "execution_count": null,
      "outputs": []
    },
    {
      "cell_type": "code",
      "source": [
        "#프로그래머스 sql - 인기있는 아이스크림\n",
        "\n",
        "SELECT FLAVOR FROM FIRST_HALF\n",
        "ORDER BY TOTAL_ORDER DESC, SHIPMENT_ID"
      ],
      "metadata": {
        "id": "pLT1x7GyqpVu"
      },
      "execution_count": null,
      "outputs": []
    },
    {
      "cell_type": "code",
      "source": [
        "#프로그래머스 sql - 조건에 맞는 회원수 구하기\n",
        "\n",
        "SELECT count(USER_ID) as USERS FROM USER_INFO\n",
        "WHERE DATE_FORMAT(JOINED, \"%y\") = 21 \n",
        "    and AGE >= 20 and AGE <= 29"
      ],
      "metadata": {
        "id": "9ij-4K-urOhW"
      },
      "execution_count": null,
      "outputs": []
    },
    {
      "cell_type": "code",
      "source": [
        "#프로그래머스 sql - 상위 n개 레코드\n",
        "\n",
        "SELECT NAME FROM ANIMAL_INS\n",
        "ORDER BY DATETIME\n",
        "LIMIT 1"
      ],
      "metadata": {
        "id": "5p3SB6-ur4at"
      },
      "execution_count": null,
      "outputs": []
    },
    {
      "cell_type": "code",
      "source": [
        "#프로그래머스 sql - 모든 레코드 조회하기\n",
        "\n",
        "SELECT * FROM ANIMAL_INS\n",
        "ORDER BY ANIMAL_ID"
      ],
      "metadata": {
        "id": "q-hZpLHqsIdX"
      },
      "execution_count": null,
      "outputs": []
    },
    {
      "cell_type": "code",
      "source": [
        "#프로그래머스 sql - 여러 기준으로 정렬하기\n",
        "\n",
        "SELECT ANIMAL_ID, NAME, DATETIME FROM ANIMAL_INS\n",
        "ORDER BY NAME, DATETIME DESC"
      ],
      "metadata": {
        "id": "_2c3eUVcs9ox"
      },
      "execution_count": null,
      "outputs": []
    },
    {
      "cell_type": "code",
      "source": [
        "#프로그래머스 sql - 동물 아이디와 이름\n",
        "\n",
        "SELECT ANIMAL_ID, NAME\n",
        "FROM ANIMAL_INS\n",
        "ORDER BY ANIMAL_ID"
      ],
      "metadata": {
        "id": "VQpDH6BHtP6X"
      },
      "execution_count": null,
      "outputs": []
    },
    {
      "cell_type": "code",
      "source": [
        "#프로그래머스 sql - 어린 동물 찾기\n",
        "\n",
        "SELECT ANIMAL_ID, NAME FROM ANIMAL_INS\n",
        "WHERE INTAKE_CONDITION not in (\"Aged\")\n",
        "ORDER BY ANIMAL_ID"
      ],
      "metadata": {
        "id": "rLCKJgXMtwU2"
      },
      "execution_count": null,
      "outputs": []
    },
    {
      "cell_type": "code",
      "source": [
        "#프로그래머스 sql - 아픈 동물 찾기\n",
        "\n",
        "SELECT ANIMAL_ID, NAME FROM ANIMAL_INS\n",
        "WHERE INTAKE_CONDITION in (\"Sick\")\n",
        "ORDER BY ANIMAL_ID"
      ],
      "metadata": {
        "id": "eXh9yHqmuFWS"
      },
      "execution_count": null,
      "outputs": []
    }
  ]
}