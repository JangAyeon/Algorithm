{
 "cells": [
  {
   "attachments": {},
   "cell_type": "markdown",
   "metadata": {},
   "source": [
    "## 2018 KAKAO BLIND RECRUITMENT [1차] 뉴스 클러스터링\n",
    "\n",
    "https://school.programmers.co.kr/learn/courses/30/lessons/17677\n",
    "\n",
    "* 정규 표현식 사용해 특수문자 제가"
   ]
  },
  {
   "cell_type": "code",
   "execution_count": 52,
   "metadata": {},
   "outputs": [],
   "source": [
    "# 다중집합 고려하지 않는 경우\n",
    "\n",
    "import re\n",
    "\n",
    "\n",
    "def get_token(strList):\n",
    "    #print(strList)\n",
    "    tokenList=[]\n",
    "    pattern= re.compile(r'[a-z]{2}')\n",
    "    for i in range(len(strList)-1):\n",
    "        token = strList[i]+strList[i+1]\n",
    "        if pattern.findall(token):\n",
    "            tokenList.append(token)\n",
    "    #print(token)\n",
    "    return set(tokenList)\n",
    "\n",
    "\n",
    "def solution(str1, str2):\n",
    "    str1, str2=str1.lower(), str2.lower()\n",
    "    str1List, str2List = get_token(str1), get_token(str2)\n",
    "\n",
    "    inter = str1List & str2List\n",
    "    total = str1List | str2List\n",
    "\n",
    "    #print(inter, total)\n",
    "    return int(len(inter)/len(total)*65536)\n",
    "    #return str1, str2"
   ]
  },
  {
   "cell_type": "code",
   "execution_count": 97,
   "metadata": {},
   "outputs": [],
   "source": [
    "## 다중 집합 고려한 경우\n",
    "\n",
    "# 각 집합에서 해당 요소의 갯수 파악\n",
    "# 교집합 : 동시에 속하는 원소 갯수 중 작은 횟수 만큼\n",
    "# 합집합 : 동시에 속하는 원소 갯수 중 큰 횟수 만틈\n",
    "\n",
    "import re\n",
    "\n",
    "def get_token(strList):\n",
    "    #print(strList)\n",
    "    tokenList=[]\n",
    "    pattern= re.compile(r'[a-z]{2}')\n",
    "    for i in range(len(strList)-1):\n",
    "        token = strList[i]+strList[i+1]\n",
    "        if pattern.findall(token):\n",
    "            tokenList.append(token)\n",
    "    #print(token)\n",
    "    return tokenList\n",
    "\n",
    "\n",
    "\n",
    "def solution(str1, str2):\n",
    "    interAddiction, totalAddiction = 0, 0\n",
    "    num = 65536\n",
    "\n",
    "    if len(str1) <= 1 and len(str1)<=1: # 예외 \n",
    "        return num\n",
    "    str1, str2=str1.lower(), str2.lower()\n",
    "    str1List, str2List = get_token(str1), get_token(str2)\n",
    "    #print(str1List, str2List)\n",
    "\n",
    "    inter = set(str1List) & set(str2List) #교집합\n",
    "    total = set(str1List) | set(str2List) #합집합\n",
    "\n",
    "    for i in total: # 합집합인 경우\n",
    "        if str1List.count(i)>1 or str2List.count(i)>1:\n",
    "            totalAddiction += max(str1List.count(i), str2List.count(i))-1\n",
    "\n",
    "    #print(totalAddiction)\n",
    "\n",
    "    for i in inter: #교집합인 경우\n",
    "        if str1List.count(i)>1 and str2List.count(i)>1:\n",
    "            interAddiction += min(str1List.count(i), str2List.count(i))-1\n",
    "    #print(interAddiction)\n",
    "\n",
    "    if (len(total) + totalAddiction) == 0:\n",
    "        return num\n",
    "    if (len(inter) + interAddiction) == 0:\n",
    "        return 0\n",
    "\n",
    "    return int((len(inter)+interAddiction)/(len(total)+totalAddiction)*num)\n"
   ]
  },
  {
   "attachments": {},
   "cell_type": "markdown",
   "metadata": {},
   "source": [
    "**예외처리**"
   ]
  },
  {
   "cell_type": "code",
   "execution_count": null,
   "metadata": {},
   "outputs": [],
   "source": [
    "## 주어진 문자열의 길이가 1보다 작은 경우 : 문자쌍이 생성되지 않음\n",
    "\n",
    "if len(str1List) <= 1 and len(str1List)<= 1:\n",
    "    return num"
   ]
  },
  {
   "cell_type": "code",
   "execution_count": null,
   "metadata": {},
   "outputs": [],
   "source": [
    "## 나누기 0 사용 에러 처리 : 0/0과 0/N인 경우 고려\n",
    "\n",
    "if (len(total)+bothAddiction) ==  0: # 0/0 (합집합이 0 이면 교집합도 0이 됨)\n",
    "    return num\n",
    "\n",
    "if (len(inter)+interAddiction) == 0: # 0/N (교집합이 0인데 합집합은 N임)\n",
    "    return 0\n"
   ]
  },
  {
   "attachments": {},
   "cell_type": "markdown",
   "metadata": {},
   "source": [
    "**Counter 사용해 구현**\n",
    "\n",
    "https://velog.io/@godiva7319/%ED%94%84%EB%A1%9C%EA%B7%B8%EB%9E%98%EB%A8%B8%EC%8A%A4-Level2-1%EC%B0%A8-%EB%89%B4%EC%8A%A4-%ED%81%B4%EB%9F%AC%EC%8A%A4%ED%84%B0%EB%A7%81-Python"
   ]
  },
  {
   "cell_type": "code",
   "execution_count": 30,
   "metadata": {},
   "outputs": [],
   "source": [
    "## 문자열 전처리\n",
    "\n",
    "from collections import Counter \n",
    " \n",
    "def solution(str1, str2):\n",
    "    num = 65536\n",
    "\n",
    "    # 문자열 전처리\n",
    "    str1 , str2 = str1.lower(), str2.lower()\n",
    "    str1_set = [str1[i:i+2] for i in range(len(str1)-1) if str1[i:i+2].isalpha()]\n",
    "    str2_set = [str2[i:i+2] for i in range(len(str2)-1) if str2[i:i+2].isalpha()]\n",
    "\n",
    "    # Counter 객체 변화\n",
    "    str1_cnt, str2_cnt = Counter(str1_set),  Counter(str2_set)\n",
    "\n",
    "    # 다중 집합 : 교집합과 합집합 구하기\n",
    "    inter = sum((str1_cnt & str2_cnt).values())\n",
    "    union = sum((str1_cnt | str2_cnt).values())\n",
    "\n",
    "    # 예외처리 : 합집합 존재 안함에 따라 교집합도 존재하지 않는 경우\n",
    "    if union == 0 and inter == 0:\n",
    "        return num\n",
    "    else:\n",
    "        return int((inter/union)*num)\n"
   ]
  },
  {
   "cell_type": "code",
   "execution_count": 2,
   "metadata": {},
   "outputs": [],
   "source": [
    "testcase = [\n",
    "    (\"FRANCE\",\"french\"),\n",
    "    (\"handshake\",\"shake hands\"),\n",
    "    (\"aa1+aa2\",\t\"AAAA12\"),\n",
    "    (\"E=M*C^2\",\t\"e=m*c^2\"),\n",
    "    (\"aaabb\",\"aabbb\")\n",
    "]\n"
   ]
  },
  {
   "cell_type": "code",
   "execution_count": 31,
   "metadata": {},
   "outputs": [
    {
     "name": "stdout",
     "output_type": "stream",
     "text": [
      "16384\n",
      "65536\n",
      "43690\n",
      "65536\n",
      "39321\n"
     ]
    }
   ],
   "source": [
    "for str1, str2 in testcase:\n",
    "    print(solution(str1, str2))"
   ]
  }
 ],
 "metadata": {
  "kernelspec": {
   "display_name": "Python 3",
   "language": "python",
   "name": "python3"
  },
  "language_info": {
   "codemirror_mode": {
    "name": "ipython",
    "version": 3
   },
   "file_extension": ".py",
   "mimetype": "text/x-python",
   "name": "python",
   "nbconvert_exporter": "python",
   "pygments_lexer": "ipython3",
   "version": "3.9.6"
  },
  "orig_nbformat": 4,
  "vscode": {
   "interpreter": {
    "hash": "31f2aee4e71d21fbe5cf8b01ff0e069b9275f58929596ceb00d14d90e3e16cd6"
   }
  }
 },
 "nbformat": 4,
 "nbformat_minor": 2
}
