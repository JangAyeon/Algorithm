{
 "cells": [
  {
   "attachments": {},
   "cell_type": "markdown",
   "metadata": {},
   "source": [
    "## 2018 KAKAO BLIND RECRUITMENT [1차] 뉴스 클러스터링\n",
    "\n",
    "https://school.programmers.co.kr/learn/courses/30/lessons/17677\n",
    "\n",
    "* 정규 표현식 사용해 특수문자 제가"
   ]
  },
  {
   "cell_type": "code",
   "execution_count": 52,
   "metadata": {},
   "outputs": [],
   "source": [
    "# 다중집합 고려하지 않는 경우\n",
    "\n",
    "import re\n",
    "\n",
    "\n",
    "def get_token(strList):\n",
    "    #print(strList)\n",
    "    tokenList=[]\n",
    "    pattern= re.compile(r'[a-z]{2}')\n",
    "    for i in range(len(strList)-1):\n",
    "        token = strList[i]+strList[i+1]\n",
    "        if pattern.findall(token):\n",
    "            tokenList.append(token)\n",
    "    #print(token)\n",
    "    return set(tokenList)\n",
    "\n",
    "\n",
    "def solution(str1, str2):\n",
    "    str1, str2=str1.lower(), str2.lower()\n",
    "    str1List, str2List = get_token(str1), get_token(str2)\n",
    "\n",
    "    inter = str1List & str2List\n",
    "    total = str1List | str2List\n",
    "\n",
    "    #print(inter, total)\n",
    "    return int(len(inter)/len(total)*65536)\n",
    "    #return str1, str2"
   ]
  },
  {
   "cell_type": "code",
   "execution_count": 77,
   "metadata": {},
   "outputs": [],
   "source": [
    "## 다중 집합 고려한 경우\n",
    "\n",
    "# 각 집합에서 해당 요소의 갯수 파악\n",
    "# 교집합 : 동시에 속하는 원소 갯수 중 작은 횟수 만큼\n",
    "# 합집합 : 동시에 속하는 원소 갯수 중 큰 횟수 만틈\n",
    "\n",
    "import re\n",
    "\n",
    "def get_token(strList):\n",
    "    #print(strList)\n",
    "    tokenList=[]\n",
    "    pattern= re.compile(r'[a-z]{2}')\n",
    "    for i in range(len(strList)-1):\n",
    "        token = strList[i]+strList[i+1]\n",
    "        if pattern.findall(token):\n",
    "            tokenList.append(token)\n",
    "    #print(token)\n",
    "    return tokenList\n",
    "\n",
    "\n",
    "\n",
    "def solution(str1, str2):\n",
    "    inter, total, interAddiction, bothAddiction = 0, 0, 0, 0\n",
    "    num = 65536\n",
    "\n",
    "    if len(str1List) < 1 and len(str1List)<1:\n",
    "        return num\n",
    "    str1, str2=str1.lower(), str2.lower()\n",
    "    str1List, str2List = get_token(str1), get_token(str2)\n",
    "\n",
    "    inter = set(str1List) & set(str2List) \n",
    "    total = set(str1List) | set(str2List)\n",
    "\n",
    "    for i in total:\n",
    "        if str1List.count(i)>1 or str2List.count(i)>1:\n",
    "            interAddiction = min(str1List.count(i), str2List.count(i))-1\n",
    "            bothAddiction = max(str1List.count(i), str2List.count(i))-1\n",
    "    ans = int((len(inter)+interAddiction)/(len(total)+bothAddiction)*num)\n",
    "\n",
    "    if (len(inter)+interAddiction) == 0:\n",
    "        ans = 0\n",
    "\n",
    "    if (len(total)+bothAddiction) ==  0:\n",
    "        ans = num\n",
    "\n",
    "    return ans\n",
    "\n",
    "    ## 이거만 가지고 제출하면 생기는 오류들 다음 cell에서 다룸"
   ]
  },
  {
   "cell_type": "code",
   "execution_count": null,
   "metadata": {},
   "outputs": [],
   "source": [
    "## 0 으로 나누는 경우 예외 처리\n",
    "\n",
    "if len(str1List) < 1 and len(str1List)<1:\n",
    "    return num"
   ]
  },
  {
   "cell_type": "code",
   "execution_count": null,
   "metadata": {},
   "outputs": [],
   "source": [
    "## 0/숫자 와 숫자/0인 경우 고려\n",
    "if (len(inter)+interAddiction) == 0:\n",
    "    return 0\n",
    "\n",
    "if (len(total)+bothAddiction) ==  0:\n",
    "    return num\n"
   ]
  },
  {
   "cell_type": "code",
   "execution_count": 54,
   "metadata": {},
   "outputs": [],
   "source": [
    "testcase = [\n",
    "    (\"FRANCE\",\"french\"),\n",
    "    (\"handshake\",\"shake hands\"),\n",
    "    (\"aa1+aa2\",\t\"AAAA12\"),\n",
    "    (\"E=M*C^2\",\t\"e=m*c^2\")\n",
    "]\n",
    "\n",
    "#   '''(\"E=M*C^2\",\t\"e=m*c^2\")'''   "
   ]
  },
  {
   "cell_type": "code",
   "execution_count": 78,
   "metadata": {},
   "outputs": [
    {
     "name": "stdout",
     "output_type": "stream",
     "text": [
      "16384\n",
      "65536\n",
      "43690\n"
     ]
    },
    {
     "ename": "ZeroDivisionError",
     "evalue": "division by zero",
     "output_type": "error",
     "traceback": [
      "\u001b[0;31m---------------------------------------------------------------------------\u001b[0m",
      "\u001b[0;31mZeroDivisionError\u001b[0m                         Traceback (most recent call last)",
      "Cell \u001b[0;32mIn[78], line 2\u001b[0m\n\u001b[1;32m      1\u001b[0m \u001b[39mfor\u001b[39;00m str1, str2 \u001b[39min\u001b[39;00m testcase:\n\u001b[0;32m----> 2\u001b[0m     \u001b[39mprint\u001b[39m(solution(str1, str2))\n",
      "Cell \u001b[0;32mIn[77], line 35\u001b[0m, in \u001b[0;36msolution\u001b[0;34m(str1, str2)\u001b[0m\n\u001b[1;32m     33\u001b[0m         interAddiction \u001b[39m=\u001b[39m \u001b[39mmin\u001b[39m(str1List\u001b[39m.\u001b[39mcount(i), str2List\u001b[39m.\u001b[39mcount(i))\u001b[39m-\u001b[39m\u001b[39m1\u001b[39m\n\u001b[1;32m     34\u001b[0m         bothAddiction \u001b[39m=\u001b[39m \u001b[39mmax\u001b[39m(str1List\u001b[39m.\u001b[39mcount(i), str2List\u001b[39m.\u001b[39mcount(i))\u001b[39m-\u001b[39m\u001b[39m1\u001b[39m\n\u001b[0;32m---> 35\u001b[0m ans \u001b[39m=\u001b[39m \u001b[39mint\u001b[39m((\u001b[39mlen\u001b[39;49m(inter)\u001b[39m+\u001b[39;49minterAddiction)\u001b[39m/\u001b[39;49m(\u001b[39mlen\u001b[39;49m(total)\u001b[39m+\u001b[39;49mbothAddiction)\u001b[39m*\u001b[39mnum)\n\u001b[1;32m     37\u001b[0m \u001b[39mif\u001b[39;00m \u001b[39mlen\u001b[39m(str1List) \u001b[39m<\u001b[39m \u001b[39m1\u001b[39m \u001b[39mand\u001b[39;00m \u001b[39mlen\u001b[39m(str1List)\u001b[39m<\u001b[39m\u001b[39m1\u001b[39m:\n\u001b[1;32m     38\u001b[0m     ans \u001b[39m=\u001b[39m num\n",
      "\u001b[0;31mZeroDivisionError\u001b[0m: division by zero"
     ]
    }
   ],
   "source": [
    "for str1, str2 in testcase:\n",
    "    print(solution(str1, str2))"
   ]
  },
  {
   "cell_type": "code",
   "execution_count": null,
   "metadata": {},
   "outputs": [],
   "source": []
  }
 ],
 "metadata": {
  "kernelspec": {
   "display_name": "Python 3",
   "language": "python",
   "name": "python3"
  },
  "language_info": {
   "codemirror_mode": {
    "name": "ipython",
    "version": 3
   },
   "file_extension": ".py",
   "mimetype": "text/x-python",
   "name": "python",
   "nbconvert_exporter": "python",
   "pygments_lexer": "ipython3",
   "version": "3.9.6"
  },
  "orig_nbformat": 4,
  "vscode": {
   "interpreter": {
    "hash": "31f2aee4e71d21fbe5cf8b01ff0e069b9275f58929596ceb00d14d90e3e16cd6"
   }
  }
 },
 "nbformat": 4,
 "nbformat_minor": 2
}
